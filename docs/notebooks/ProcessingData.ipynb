{
 "metadata": {
  "name": "",
  "signature": "sha256:32f8d4ee4543dfc826d90b82aeb6c8bc54261cca021ef8b264f3a1fa8dabd362"
 },
 "nbformat": 3,
 "nbformat_minor": 0,
 "worksheets": [
  {
   "cells": [
    {
     "cell_type": "heading",
     "level": 1,
     "metadata": {},
     "source": [
      "Reading CTD data with PySeabird"
     ]
    },
    {
     "cell_type": "heading",
     "level": 2,
     "metadata": {},
     "source": [
      "Author: Guilherme Castel\u00e3o"
     ]
    },
    {
     "cell_type": "markdown",
     "metadata": {},
     "source": [
      "pySeabird is a package to parse/load CTD data files. It should be an easy task but the problem is that the format have been changing along the time. Work with multiple ships/cruises data requires first to understand each file, to normalize it into a common format for only than start your analysis. That can still be done with few general regular expression rules, but I would rather use strict rules. If I'm loading hundreds or thousands of profiles, I want to be sure that no mistake passed by. I rather ignore a file in doubt and warn it, than belive that it was loaded right and be part of my analysis.\n",
      "\n",
      "With that in mind, I wrote this package with the ability to load multiple rules, so new rules can be added without change the main engine.\n",
      "\n",
      "For more information, check the documentatio"
     ]
    },
    {
     "cell_type": "code",
     "collapsed": false,
     "input": [
      "%matplotlib inline\n",
      "\n",
      "from seabird.cnv import fCNV\n",
      "from gsw import z_from_p"
     ],
     "language": "python",
     "metadata": {},
     "outputs": [],
     "prompt_number": 1
    },
    {
     "cell_type": "markdown",
     "metadata": {},
     "source": [
      "Let's first download an example file with some CTD data"
     ]
    },
    {
     "cell_type": "code",
     "collapsed": false,
     "input": [
      "!wget https://raw.githubusercontent.com/castelao/seabird/master/tests/test_data/dPIRX003.cnv.OK"
     ],
     "language": "python",
     "metadata": {},
     "outputs": [
      {
       "output_type": "stream",
       "stream": "stdout",
       "text": [
        "--2015-02-20 18:49:22--  https://raw.githubusercontent.com/castelao/seabird/master/tests/test_data/dPIRX003.cnv.OK\r\n",
        "Resolving raw.githubusercontent.com... "
       ]
      },
      {
       "output_type": "stream",
       "stream": "stdout",
       "text": [
        "199.27.79.133\r\n",
        "Connecting to raw.githubusercontent.com|199.27.79.133|:443... connected.\r\n"
       ]
      },
      {
       "output_type": "stream",
       "stream": "stdout",
       "text": [
        "HTTP request sent, awaiting response... 200 OK\r\n",
        "Length: 47291 (46K) [text/plain]\r\n",
        "Saving to: 'dPIRX003.cnv.OK'\r\n",
        "\r\n",
        "\r",
        "dPIRX003.cnv.OK       0%[                      ]       0  --.-KB/s             "
       ]
      },
      {
       "output_type": "stream",
       "stream": "stdout",
       "text": [
        "\r",
        "dPIRX003.cnv.OK     100%[=====================>]  46.18K  --.-KB/s   in 0.08s  \r\n",
        "\r\n",
        "2015-02-20 18:49:22 (560 KB/s) - 'dPIRX003.cnv.OK' saved [47291/47291]\r\n",
        "\r\n"
       ]
      }
     ],
     "prompt_number": 2
    },
    {
     "cell_type": "code",
     "collapsed": false,
     "input": [
      "profile = fCNV('dPIRX003.cnv.OK')"
     ],
     "language": "python",
     "metadata": {},
     "outputs": [
      {
       "output_type": "stream",
       "stream": "stdout",
       "text": [
        "Using rules from: cnv.yaml\n"
       ]
      }
     ],
     "prompt_number": 3
    },
    {
     "cell_type": "markdown",
     "metadata": {},
     "source": [
      "The profile dPIRX003.cnv.OK was loaded with the default rule cnv.yaml"
     ]
    },
    {
     "cell_type": "code",
     "collapsed": false,
     "input": [
      "print \"Header: %s\" % profile.attributes.keys()\n",
      "print \"Data: %s\" % profile.keys()"
     ],
     "language": "python",
     "metadata": {},
     "outputs": [
      {
       "output_type": "stream",
       "stream": "stdout",
       "text": [
        "Header: ['file_type', 'seasave', 'start_time', 'nquan', 'longitude', 'datetime', 'bad_flag', 'nvalues', 'latitude', 'filename', 'md5']\n",
        "Data: ['timeS', 'pressure', 'temperature', 'temperature2', 'conductivity', 'conductivity2', 'potemperature', 'potemperature2', 'salinity', 'salinity2', 'flag']\n"
       ]
      }
     ],
     "prompt_number": 4
    },
    {
     "cell_type": "markdown",
     "metadata": {},
     "source": [
      "We have latitude in the header, and pressure in the data."
     ]
    },
    {
     "cell_type": "code",
     "collapsed": false,
     "input": [
      "z = z_from_p(profile['pressure'], profile.attributes['latitude'])"
     ],
     "language": "python",
     "metadata": {},
     "outputs": [],
     "prompt_number": 5
    },
    {
     "cell_type": "code",
     "collapsed": false,
     "input": [
      "from matplotlib import pyplot as plt\n",
      "\n",
      "plt.plot(profile['temperature'], z,'b')\n",
      "plt.plot(profile['temperature2'], z,'g')\n",
      "plt.xlabel('temperature')\n",
      "plt.ylabel('depth')\n",
      "plt.title(profile.attributes['filename'])"
     ],
     "language": "python",
     "metadata": {},
     "outputs": [
      {
       "metadata": {},
       "output_type": "pyout",
       "prompt_number": 6,
       "text": [
        "<matplotlib.text.Text at 0x10076f290>"
       ]
      },
      {
       "metadata": {},
       "output_type": "display_data",
       "png": "[encoded data removed]",
       "text": [
        "<matplotlib.figure.Figure at 0x10516c610>"
       ]
      }
     ],
     "prompt_number": 6
    }
   ],
   "metadata": {}
  }
 ]
}