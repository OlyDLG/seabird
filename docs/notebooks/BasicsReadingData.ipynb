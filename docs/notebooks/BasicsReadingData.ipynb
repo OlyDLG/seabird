{
 "metadata": {
  "name": "",
  "signature": "sha256:3995b840083e8fac8d8849650f048477f48712d1c816b8be35f4898cc3f2fae6"
 },
 "nbformat": 3,
 "nbformat_minor": 0,
 "worksheets": [
  {
   "cells": [
    {
     "cell_type": "heading",
     "level": 1,
     "metadata": {},
     "source": [
      "Reading CTD data with PySeabird"
     ]
    },
    {
     "cell_type": "heading",
     "level": 2,
     "metadata": {},
     "source": [
      "Author: Guilherme Castel\u00e3o"
     ]
    },
    {
     "cell_type": "markdown",
     "metadata": {},
     "source": [
      "pySeabird is a package to parse/load CTD data files. It should be an easy task but the problem is that the format have been changing along the time. Work with multiple ships/cruises data requires first to understand each file, to normalize it into a common format for only than start your analysis. That can still be done with few general regular expression rules, but I would rather use strict rules. If I'm loading hundreds or thousands of profiles, I want to be sure that no mistake passed by. I rather ignore a file in doubt and warn it, than belive that it was loaded right and be part of my analysis.\n",
      "\n",
      "With that in mind, I wrote this package with the ability to load multiple rules, so new rules can be added without change the main engine.\n",
      "\n",
      "For more information, check the documentatio"
     ]
    },
    {
     "cell_type": "code",
     "collapsed": false,
     "input": [
      "%matplotlib inline\n",
      "\n",
      "from seabird.cnv import fCNV"
     ],
     "language": "python",
     "metadata": {},
     "outputs": [],
     "prompt_number": 1
    },
    {
     "cell_type": "markdown",
     "metadata": {},
     "source": [
      "Let's first download an example file with some CTD data"
     ]
    },
    {
     "cell_type": "code",
     "collapsed": false,
     "input": [
      "!wget https://raw.githubusercontent.com/castelao/seabird/master/tests/test_data/dPIRX003.cnv.OK"
     ],
     "language": "python",
     "metadata": {},
     "outputs": [
      {
       "output_type": "stream",
       "stream": "stdout",
       "text": [
        "--2015-02-20 14:08:37--  https://raw.githubusercontent.com/castelao/seabird/master/tests/test_data/dPIRX003.cnv.OK\r\n",
        "Resolving raw.githubusercontent.com... "
       ]
      },
      {
       "output_type": "stream",
       "stream": "stdout",
       "text": [
        "199.27.79.133\r\n",
        "Connecting to raw.githubusercontent.com|199.27.79.133|:443... "
       ]
      },
      {
       "output_type": "stream",
       "stream": "stdout",
       "text": [
        "connected.\r\n"
       ]
      },
      {
       "output_type": "stream",
       "stream": "stdout",
       "text": [
        "HTTP request sent, awaiting response... "
       ]
      },
      {
       "output_type": "stream",
       "stream": "stdout",
       "text": [
        "200 OK\r\n",
        "Length: 47291 (46K) [text/plain]\r\n",
        "Saving to: 'dPIRX003.cnv.OK.1'\r\n",
        "\r\n",
        "\r",
        "dPIRX003.cnv.OK.1     0%[                      ]       0  --.-KB/s             "
       ]
      },
      {
       "output_type": "stream",
       "stream": "stdout",
       "text": [
        "\r",
        "dPIRX003.cnv.OK.1   100%[=====================>]  46.18K  --.-KB/s   in 0.06s  \r\n",
        "\r\n"
       ]
      },
      {
       "output_type": "stream",
       "stream": "stdout",
       "text": [
        "2015-02-20 14:08:37 (838 KB/s) - 'dPIRX003.cnv.OK.1' saved [47291/47291]\r\n",
        "\r\n"
       ]
      }
     ],
     "prompt_number": 2
    },
    {
     "cell_type": "code",
     "collapsed": false,
     "input": [
      "profile = fCNV('dPIRX003.cnv.OK')"
     ],
     "language": "python",
     "metadata": {},
     "outputs": [
      {
       "output_type": "stream",
       "stream": "stdout",
       "text": [
        "Using rules from: cnv.yaml\n"
       ]
      }
     ],
     "prompt_number": 3
    },
    {
     "cell_type": "markdown",
     "metadata": {},
     "source": [
      "The profile dPIRX003.cnv.OK was loaded with the default rule cnv.yaml"
     ]
    },
    {
     "cell_type": "heading",
     "level": 3,
     "metadata": {},
     "source": [
      "The header (metadata)"
     ]
    },
    {
     "cell_type": "code",
     "collapsed": false,
     "input": [
      "profile.attributes"
     ],
     "language": "python",
     "metadata": {},
     "outputs": [
      {
       "metadata": {},
       "output_type": "pyout",
       "prompt_number": 4,
       "text": [
        "{'bad_flag': '-9.990e-29',\n",
        " 'datetime': datetime.datetime(2008, 4, 2, 18, 52, 30),\n",
        " 'file_type': 'ascii',\n",
        " 'filename': 'dPIRX003.cnv.OK',\n",
        " 'latitude': 12.674333333333333,\n",
        " 'longitude': -38.00183333333333,\n",
        " 'md5': '4b941b902a3aea7d99e1cf4c78c51877',\n",
        " 'nquan': '11',\n",
        " 'nvalues': '349',\n",
        " 'seasave': 'Win32 V 5.37d',\n",
        " 'start_time': 'Apr 02 2008 18:52:30'}"
       ]
      }
     ],
     "prompt_number": 4
    },
    {
     "cell_type": "markdown",
     "metadata": {},
     "source": [
      "The header is loaded into the .attributes as a dictionary. Note that the date was already converted into a datetime object.\n",
      "\n",
      "There is a new attribute, not found in the file, that is 'md5'. This is the MD5 Hash for the original file. This might be usefull to double check the inputs when reproducing some analysis.\n",
      "\n",
      "Since it's a dictionary, to extract the geographical coordinates, for example:"
     ]
    },
    {
     "cell_type": "code",
     "collapsed": false,
     "input": [
      "print \"The profile coordinates is latitude: %.4f, and longitude: %.4f\" % \\\n",
      "    (profile.attributes['latitude'], profile.attributes['longitude'])"
     ],
     "language": "python",
     "metadata": {},
     "outputs": [
      {
       "output_type": "stream",
       "stream": "stdout",
       "text": [
        "The profile coordinates is latitude: 12.6743, and longitude: -38.0018\n"
       ]
      }
     ],
     "prompt_number": 5
    },
    {
     "cell_type": "heading",
     "level": 3,
     "metadata": {},
     "source": [
      "The data"
     ]
    },
    {
     "cell_type": "markdown",
     "metadata": {},
     "source": [
      "The object profile behaves like a dictionary with the data. So to check the available data one can just"
     ]
    },
    {
     "cell_type": "code",
     "collapsed": false,
     "input": [
      "print profile.keys()"
     ],
     "language": "python",
     "metadata": {},
     "outputs": [
      {
       "output_type": "stream",
       "stream": "stdout",
       "text": [
        "['timeS', 'pressure', 'temperature', 'temperature2', 'conductivity', 'conductivity2', 'potemperature', 'potemperature2', 'salinity', 'salinity2', 'flag']\n"
       ]
      }
     ],
     "prompt_number": 6
    },
    {
     "cell_type": "markdown",
     "metadata": {},
     "source": [
      "Each data returns as a masked array, hence all values equal to profile.attributes['bad_flag'] will return as a masked value"
     ]
    },
    {
     "cell_type": "code",
     "collapsed": false,
     "input": [
      "profile['temperature2'][:25]"
     ],
     "language": "python",
     "metadata": {},
     "outputs": [
      {
       "metadata": {},
       "output_type": "pyout",
       "prompt_number": 7,
       "text": [
        "masked_array(data = [15.7969 15.5144 15.4179 15.3232 15.1983 15.1154 15.076 15.0842 15.0535\n",
        " 15.0212 14.9611 14.8273 14.7881 14.7453 14.7223 14.7371 14.7438 14.7413\n",
        " 14.7404 -- 14.4535 14.3612 14.2561 14.2155 14.2098],\n",
        "             mask = [False False False False False False False False False False False False\n",
        " False False False False False False False  True False False False False\n",
        " False],\n",
        "       fill_value = -9.99e-29)"
       ]
      }
     ],
     "prompt_number": 7
    },
    {
     "cell_type": "markdown",
     "metadata": {},
     "source": [
      "As a regular masked array, let's check the mean and standard deviation between the two temperature sensors"
     ]
    },
    {
     "cell_type": "code",
     "collapsed": false,
     "input": [
      "print profile['temperature'].mean(), profile['temperature'].std()\n",
      "print profile['temperature2'].mean(), profile['temperature2'].std()"
     ],
     "language": "python",
     "metadata": {},
     "outputs": [
      {
       "output_type": "stream",
       "stream": "stdout",
       "text": [
        "11.5807006135 1.5675053881\n",
        "11.5404211009 1.61107230384\n"
       ]
      }
     ],
     "prompt_number": 8
    },
    {
     "cell_type": "code",
     "collapsed": false,
     "input": [
      "from matplotlib import pyplot as plt\n",
      "\n",
      "plt.plot(profile['temperature'], profile['pressure'],'b')\n",
      "plt.plot(profile['temperature2'], profile['pressure'],'g')\n",
      "plt.gca().invert_yaxis()\n",
      "plt.xlabel('temperature')\n",
      "plt.ylabel('pressure')\n",
      "plt.title(profile.attributes['filename'])"
     ],
     "language": "python",
     "metadata": {},
     "outputs": [
      {
       "metadata": {},
       "output_type": "pyout",
       "prompt_number": 10,
       "text": [
        "<matplotlib.text.Text at 0x1082ebd90>"
       ]
      },
      {
       "metadata": {},
       "output_type": "display_data",
       "png": "[encoded data removed]",
       "text": [
        "<matplotlib.figure.Figure at 0x1081cfa10>"
       ]
      }
     ],
     "prompt_number": 10
    },
    {
     "cell_type": "code",
     "collapsed": false,
     "input": [],
     "language": "python",
     "metadata": {},
     "outputs": []
    }
   ],
   "metadata": {}
  }
 ]
}